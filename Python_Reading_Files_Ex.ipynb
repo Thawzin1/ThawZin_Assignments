{
  "nbformat": 4,
  "nbformat_minor": 0,
  "metadata": {
    "colab": {
      "provenance": []
    },
    "kernelspec": {
      "name": "python3",
      "display_name": "Python 3"
    },
    "language_info": {
      "name": "python"
    }
  },
  "cells": [
    {
      "cell_type": "code",
      "execution_count": null,
      "metadata": {
        "id": "oDxuCxJZUYoc"
      },
      "outputs": [],
      "source": [
        "#Step 1: Reading the given file and creating new files.\n",
        "file_to_read = \"members.txt\"\n",
        "file_to_write_01 = open(\"active_members.txt\", mode = \"w\")\n",
        "file_to_write_01.close()\n",
        "file_to_write_02 = open(\"inactive_members.txt\", mode = \"w\")\n",
        "file_to_write_01.close()"
      ]
    },
    {
      "cell_type": "code",
      "source": [
        "file1 = open(\"members.txt\", mode = \"r\")\n",
        "read = file1.readlines()\n",
        "second_line_to_end = read[1:]\n",
        "empty_list = []\n",
        "\n",
        "for line in second_line_to_end:\n",
        "  line_strip = line.strip()\n",
        "  line_split = line_strip.split()\n",
        "  empty_list.append(line_split)\n",
        "#print(empty_list) >> use to see the output\n",
        "\n",
        "only_yes = []\n",
        "only_no = []\n",
        "for i in empty_list:\n",
        "  if i not in only_yes or only_no:\n",
        "    if i[-1] == 'yes':\n",
        "      only_yes.append(i)\n",
        "    if i[-1] == 'no':\n",
        "      only_no.append(i)\n",
        "#print(only_yes) >> use to confirm the output\n",
        "#print(only_no) >> use to confirm the output\n",
        "\n",
        "first_line = [\"Membership No\", \"Date Joined\", \"Active\"]\n",
        "\n",
        "active_members = []\n",
        "active_members.append(first_line)\n",
        "for i in range(9):\n",
        "  next_line = \"\\n\" + str(only_yes[i])\n",
        "  active_members.append(next_line)\n",
        "#print(active_members) >> use to confirm the output\n",
        "\n",
        "with open(\"active_members.txt\", \"w\") as f:\n",
        "  for i in active_members:\n",
        "    f.write(str(i))\n",
        "    f.write(\"\\n\")\n",
        "\n",
        "inactive_members = []\n",
        "inactive_members.append(first_line)\n",
        "for i in range (11):\n",
        "  next_line = \"\\n\" + str(only_no[i])\n",
        "  inactive_members.append(next_line)\n",
        "#print(inactive_members) use to confirm the output\n",
        "\n",
        "with open(\"inactive_members.txt\", \"w\") as f:\n",
        "  for i in inactive_members:\n",
        "    f.write(str(i))\n",
        "    f.write(\"\\n\")"
      ],
      "metadata": {
        "id": "TLakRmlyoq6z"
      },
      "execution_count": null,
      "outputs": []
    },
    {
      "cell_type": "code",
      "source": [
        "#Brainstorming_Code\n",
        "a = [[\"TT\", \"12\", \"yes\"], [\"AA\", \"15\", \"no\"], [\"ZZ\", \"17\", \"yes\"] ]\n",
        "empty_list = []\n",
        "for i in a:\n",
        "  if i[-1] == 'yes':\n",
        "    empty_list.append(i)\n",
        "\n",
        "print(empty_list)"
      ],
      "metadata": {
        "colab": {
          "base_uri": "https://localhost:8080/"
        },
        "id": "MqD6EODgnE4l",
        "outputId": "a9aeb6cf-ca42-4e1b-8f20-120d638e24ca"
      },
      "execution_count": null,
      "outputs": [
        {
          "output_type": "stream",
          "name": "stdout",
          "text": [
            "[['TT', '12', 'yes'], ['ZZ', '17', 'yes']]\n"
          ]
        }
      ]
    }
  ]
}